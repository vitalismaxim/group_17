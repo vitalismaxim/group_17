{
  "nbformat": 4,
  "nbformat_minor": 0,
  "metadata": {
    "colab": {
      "provenance": []
    },
    "kernelspec": {
      "name": "python3",
      "display_name": "Python 3"
    },
    "language_info": {
      "name": "python"
    }
  },
  "cells": [
    {
      "cell_type": "code",
      "source": [
        "import numpy as np\n",
        "\n",
        "def initialize_block(rows, cols, disturbance_location):\n",
        "    block = np.zeros((rows, cols))\n",
        "    block[disturbance_location[0], disturbance_location[1]] = 1.0\n",
        "    return block\n",
        "\n",
        "def calculate_total_force(block, K1, K2, KL):\n",
        "    rows, cols = block.shape\n",
        "    total_force = np.zeros_like(block)\n",
        "    for i in range(1, rows-1):\n",
        "        for j in range(1, cols-1):\n",
        "            total_force[i, j] = K1 * (2 * block[i, j] - block[i-1, j] - block[i+1, j]) \\\n",
        "                                + K2 * (2 * block[i, j] - block[i, j-1] - block[i, j+1]) \\\n",
        "                                + KL * block[i, j]\n",
        "    return total_force\n",
        "\n",
        "def distribute_forces(block, delta_force, alpha1, alpha2):\n",
        "    rows, cols = block.shape\n",
        "    for i in range(1, rows-1):\n",
        "        for j in range(1, cols-1):\n",
        "            block[i+1, j] += delta_force[i+1, j] * alpha1\n",
        "            block[i-1, j] += delta_force[i-1, j] * alpha1\n",
        "            block[i, j+1] += delta_force[i, j+1] * alpha2\n",
        "            block[i, j-1] += delta_force[i, j-1] * alpha2\n",
        "            block[i, j] = 0\n",
        "    return block\n",
        "\n",
        "def simulate_spring_block_model(rows, cols, K1, K2, KL, iterations):\n",
        "    block = initialize_block(rows, cols, disturbance_location)\n",
        "    alpha1 = K1 / (2 * K1 + 2 * K2 + KL)\n",
        "    alpha2 = K1 / (2 * K1 + 2 * K2 + KL)\n",
        "    for _ in range(iterations):\n",
        "        total_force = calculate_total_force(block, K1, K2, KL)\n",
        "        delta_force = {'i+1': total_force.copy(), 'i-1': total_force.copy(), 'j+1': total_force.copy(), 'j-1': total_force.copy()}\n",
        "        block = distribute_forces(block, delta_force['i+1'], alpha1, 0)\n",
        "        block = distribute_forces(block, delta_force['i-1'], alpha1, 0)\n",
        "        block = distribute_forces(block, delta_force['j+1'], 0, alpha2)\n",
        "        block = distribute_forces(block, delta_force['j-1'], 0, alpha2)\n",
        "    return block\n",
        "\n",
        "rows, cols = 10, 10\n",
        "K1 = 0.2\n",
        "K2 = 0.2\n",
        "KL = 0.2\n",
        "iterations = 10\n",
        "disturbance_location = (2, 3)\n",
        "\n",
        "initial_block = initialize_block(rows, cols, disturbance_location)\n",
        "#print(\"Initial Block:\")\n",
        "#print(initial_block)\n",
        "\n",
        "resulting_block = simulate_spring_block_model(rows, cols, K1, K2, KL, iterations)\n",
        "#print(\"\\nResulting Block after Simulation:\")\n",
        "#print(resulting_block)\n",
        "\n",
        "plt.imshow(resulting_block, cmap='viridis', interpolation='nearest')\n",
        "plt.colorbar()\n",
        "plt.show()\n"
      ],
      "metadata": {
        "colab": {
          "base_uri": "https://localhost:8080/",
          "height": 445
        },
        "id": "Ea_InGIGPIZs",
        "outputId": "9b1cc5c8-05de-42b3-f708-3212c9b5fedf"
      },
      "execution_count": 108,
      "outputs": [
        {
          "output_type": "display_data",
          "data": {
            "text/plain": [
              "<Figure size 640x480 with 2 Axes>"
            ],
            "image/png": "[encoded data removed]"
          },
          "metadata": {}
        }
      ]
    },
    {
      "cell_type": "code",
      "source": [],
      "metadata": {
        "id": "ORmLuKy0xpty"
      },
      "execution_count": null,
      "outputs": []
    }
  ]
}